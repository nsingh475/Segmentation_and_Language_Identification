{
 "cells": [
  {
   "cell_type": "code",
   "execution_count": 10,
   "id": "fb0bcce0",
   "metadata": {
    "collapsed": true
   },
   "outputs": [
    {
     "name": "stdout",
     "output_type": "stream",
     "text": [
      "Collecting python_speech_features\n",
      "  Downloading python_speech_features-0.6.tar.gz (5.6 kB)\n",
      "Building wheels for collected packages: python-speech-features\n",
      "  Building wheel for python-speech-features (setup.py): started\n",
      "  Building wheel for python-speech-features (setup.py): finished with status 'done'\n",
      "  Created wheel for python-speech-features: filename=python_speech_features-0.6-py3-none-any.whl size=5879 sha256=f9b60a69ac43629387058c27d4b9aa7edddf66f052d79504192bd0a40eecc007\n",
      "  Stored in directory: c:\\users\\natas\\appdata\\local\\pip\\cache\\wheels\\09\\a1\\04\\08e2688d2562d8f9ff89e77c6ddfbf7268e07dae1a6f22455e\n",
      "Successfully built python-speech-features\n",
      "Installing collected packages: python-speech-features\n",
      "Successfully installed python-speech-features-0.6\n"
     ]
    }
   ],
   "source": [
    "# !pip install python_speech_features"
   ]
  },
  {
   "cell_type": "code",
   "execution_count": 31,
   "id": "5fc9daa4",
   "metadata": {},
   "outputs": [
    {
     "name": "stderr",
     "output_type": "stream",
     "text": [
      "ERROR: Could not find a version that satisfies the requirement pylipp (from versions: none)\n",
      "ERROR: No matching distribution found for pylipp\n"
     ]
    }
   ],
   "source": [
    "# !pip install pylipp"
   ]
  },
  {
   "cell_type": "code",
   "execution_count": 100,
   "id": "ea48c887",
   "metadata": {},
   "outputs": [],
   "source": [
    "import os\n",
    "import numpy as np\n",
    "import pandas as pd\n",
    "import librosa\n",
    "# from python_speech_features import mfcc, plp, logfbank"
   ]
  },
  {
   "cell_type": "code",
   "execution_count": 101,
   "id": "9fcb6ff8",
   "metadata": {},
   "outputs": [],
   "source": [
    "def extract_features(audio_path, file_name, lang, label, duration=10, sr=22050):\n",
    "    audio, _ = librosa.load(audio_path, sr=sr, duration=duration)\n",
    "\n",
    "    mfccs = librosa.feature.mfcc(y=audio, sr=sr, n_mfcc=13)\n",
    "    features = [file_name, lang, label] + [mfccs.mean(axis=1).tolist()]\n",
    "    return features"
   ]
  },
  {
   "cell_type": "code",
   "execution_count": 102,
   "id": "8de2d84a",
   "metadata": {},
   "outputs": [],
   "source": [
    "audio_path = '//wsl.localhost/Ubuntu/home/natasha/SLID/split_lang_id_audio/'"
   ]
  },
  {
   "cell_type": "code",
   "execution_count": 117,
   "id": "ee31bb91",
   "metadata": {},
   "outputs": [],
   "source": [
    "import pickle\n",
    "pickle_file_path = \"Segmentation_and_Language_Identification/RawData_img/train.pkl\"   #######change\n",
    "\n",
    "with open(pickle_file_path, 'rb') as file:\n",
    "    req_audios = pickle.load(file)"
   ]
  },
  {
   "cell_type": "code",
   "execution_count": 118,
   "id": "5f1fba72",
   "metadata": {},
   "outputs": [
    {
     "data": {
      "text/plain": [
       "15892"
      ]
     },
     "execution_count": 118,
     "metadata": {},
     "output_type": "execute_result"
    }
   ],
   "source": [
    "len(req_audios)"
   ]
  },
  {
   "cell_type": "code",
   "execution_count": 119,
   "id": "ab156b92",
   "metadata": {
    "scrolled": true
   },
   "outputs": [],
   "source": [
    "all_features = []\n",
    "missing = []\n",
    "category_mapping = {'na': 0, 'azz': 1, 'esp': 2, 'ambos': 3}\n",
    "\n",
    "# Loop through each audio file, extract features, and store in the list\n",
    "for audio_file in req_audios:\n",
    "    req_path = audio_path+audio_file.split('\\\\')[1].replace('.png', '.wav')\n",
    "    fname = audio_file.split('\\\\')[1].replace('.png', '.wav')\n",
    "    lang = fname.split('_')[0]\n",
    "    try:\n",
    "        label = category_mapping[lang]\n",
    "        features = extract_features(req_path, fname, lang, label)\n",
    "        all_features.append(features)\n",
    "    except:\n",
    "        missing.append(fname)\n",
    "        continue   "
   ]
  },
  {
   "cell_type": "code",
   "execution_count": 120,
   "id": "ebb4cead",
   "metadata": {},
   "outputs": [
    {
     "name": "stdout",
     "output_type": "stream",
     "text": [
      "15892 15878 14\n"
     ]
    }
   ],
   "source": [
    "print(len(req_audios), len(all_features), len(missing))"
   ]
  },
  {
   "cell_type": "code",
   "execution_count": 121,
   "id": "7c3f3bee",
   "metadata": {},
   "outputs": [
    {
     "name": "stdout",
     "output_type": "stream",
     "text": [
      "['ambos _noticiero-11-07-2022_409190.0-410910.0.wav', 'azzesp_NAHUATL_noticiero-2022-06-03_21550.0-30030.0.wav', 'espazzesp_noticiero-10-06-2020_2230700.0-2233560.0.wav', 'espazz_noticiero-06-06-2022_165360.0-167060.0.wav', 'espazz_noticiero-06-06-2022_467280.0-471270.0.wav', 'espazz_noticiero-06-06-2022_471270.0-474650.0.wav', 'espazz_noticiero-10-06-2020_2299300.0-2301450.0.wav', 'az_noticiero-24-06-2022_227990.0-230030.0.wav', 'esp  _noticiero-23-05-2022_829080.0-843390.0.wav', 'esp _noticiero-08-06-2022_976850.0-978060.0.wav', 'esp _noticiero-10-06-2020_2156720.0-2158340.0.wav', 'esp _noticiero-25-05-2022_550120.0-551780.0.wav', 'na _noticiero-23-05-2022_144280.0-144850.0.wav', 'na _noticiero-27-04-2022_152300.0-152840.0.wav']\n"
     ]
    }
   ],
   "source": [
    "print(missing)"
   ]
  },
  {
   "cell_type": "code",
   "execution_count": null,
   "id": "43b23e57",
   "metadata": {},
   "outputs": [],
   "source": [
    "# miss = 'na_noticiero-27-04-2022_152300.0-152840.0.wav'\n",
    "# audio_path = '//wsl.localhost/Ubuntu/home/natasha/SLID/split_lang_id_audio/'\n",
    "# req_path = audio_path+miss.replace('.png', '.wav')\n",
    "# fname = miss.replace('.png', '.wav')\n",
    "# lang = 'na'\n",
    "# label = category_mapping[lang]\n",
    "# features = extract_features(req_path, fname, lang, label)\n",
    "# all_features.append(features)"
   ]
  },
  {
   "cell_type": "code",
   "execution_count": 138,
   "id": "73b1b975",
   "metadata": {},
   "outputs": [],
   "source": [
    "# Create a DataFrame from the list of features\n",
    "column_names = [\"filename\", \"lange\", \"label\", \"mfcc\"]\n",
    "df = pd.DataFrame(all_features, columns=column_names)"
   ]
  },
  {
   "cell_type": "code",
   "execution_count": 115,
   "id": "e088a622",
   "metadata": {},
   "outputs": [
    {
     "data": {
      "text/html": [
       "<div>\n",
       "<style scoped>\n",
       "    .dataframe tbody tr th:only-of-type {\n",
       "        vertical-align: middle;\n",
       "    }\n",
       "\n",
       "    .dataframe tbody tr th {\n",
       "        vertical-align: top;\n",
       "    }\n",
       "\n",
       "    .dataframe thead th {\n",
       "        text-align: right;\n",
       "    }\n",
       "</style>\n",
       "<table border=\"1\" class=\"dataframe\">\n",
       "  <thead>\n",
       "    <tr style=\"text-align: right;\">\n",
       "      <th></th>\n",
       "      <th>filename</th>\n",
       "      <th>lange</th>\n",
       "      <th>label</th>\n",
       "      <th>mfcc</th>\n",
       "    </tr>\n",
       "  </thead>\n",
       "  <tbody>\n",
       "    <tr>\n",
       "      <th>0</th>\n",
       "      <td>ambos_noticiero-01-07-2022_1067550.0-1068840.0...</td>\n",
       "      <td>ambos</td>\n",
       "      <td>3</td>\n",
       "      <td>[-408.0432434082031, 93.50498962402344, 3.8254...</td>\n",
       "    </tr>\n",
       "    <tr>\n",
       "      <th>1</th>\n",
       "      <td>ambos_noticiero-04-07-2022_1132280.0-1134350.0...</td>\n",
       "      <td>ambos</td>\n",
       "      <td>3</td>\n",
       "      <td>[-380.98876953125, 135.22091674804688, -26.296...</td>\n",
       "    </tr>\n",
       "  </tbody>\n",
       "</table>\n",
       "</div>"
      ],
      "text/plain": [
       "                                            filename  lange  label  \\\n",
       "0  ambos_noticiero-01-07-2022_1067550.0-1068840.0...  ambos      3   \n",
       "1  ambos_noticiero-04-07-2022_1132280.0-1134350.0...  ambos      3   \n",
       "\n",
       "                                                mfcc  \n",
       "0  [-408.0432434082031, 93.50498962402344, 3.8254...  \n",
       "1  [-380.98876953125, 135.22091674804688, -26.296...  "
      ]
     },
     "execution_count": 115,
     "metadata": {},
     "output_type": "execute_result"
    }
   ],
   "source": [
    "df.head(2)"
   ]
  },
  {
   "cell_type": "code",
   "execution_count": 139,
   "id": "638f69f5",
   "metadata": {},
   "outputs": [
    {
     "data": {
      "text/plain": [
       "(15885, 4)"
      ]
     },
     "execution_count": 139,
     "metadata": {},
     "output_type": "execute_result"
    }
   ],
   "source": [
    "df.shape"
   ]
  },
  {
   "cell_type": "code",
   "execution_count": 140,
   "id": "be104457",
   "metadata": {},
   "outputs": [],
   "source": [
    "df.to_csv('Segmentation_and_Language_Identification/Raw_Data_seq/train_seq.csv', index=False)"
   ]
  },
  {
   "cell_type": "code",
   "execution_count": null,
   "id": "1377fd7c",
   "metadata": {},
   "outputs": [],
   "source": []
  },
  {
   "cell_type": "code",
   "execution_count": 125,
   "id": "1a5d9230",
   "metadata": {},
   "outputs": [],
   "source": [
    "### logs:\n",
    "# missing from test:\n",
    "# - esp  _noticiero-10-06-2022_1162920.0-1165270.0.wav\n",
    "\n",
    "# missing from val:  \n",
    "# - ambos_noticiero-10-06-2022_144220.0-144970.0.wav\n",
    "\n",
    "# missing from test:  \n",
    "# - espazzesp_noticiero-10-06-2020_2230700.0-2233560.0.wav\n",
    "# - esp_noticiero-23-05-2022_829080.0-843390.0.wav\n",
    "# - esp _noticiero-08-06-2022_976850.0-978060.0.wav\n",
    "# - esp _noticiero-10-06-2020_2156720.0-2158340.0.wav\n",
    "# - esp _noticiero-25-05-2022_550120.0-551780.0.wav\n",
    "# - na _noticiero-23-05-2022_144280.0-144850.0.wav\n",
    "# - na _noticiero-27-04-2022_152300.0-152840.0.wav"
   ]
  },
  {
   "cell_type": "code",
   "execution_count": null,
   "id": "c5e31a42",
   "metadata": {},
   "outputs": [],
   "source": []
  },
  {
   "cell_type": "code",
   "execution_count": null,
   "id": "efa011e8",
   "metadata": {},
   "outputs": [],
   "source": []
  }
 ],
 "metadata": {
  "kernelspec": {
   "display_name": "Python 3 (ipykernel)",
   "language": "python",
   "name": "python3"
  },
  "language_info": {
   "codemirror_mode": {
    "name": "ipython",
    "version": 3
   },
   "file_extension": ".py",
   "mimetype": "text/x-python",
   "name": "python",
   "nbconvert_exporter": "python",
   "pygments_lexer": "ipython3",
   "version": "3.9.12"
  }
 },
 "nbformat": 4,
 "nbformat_minor": 5
}
