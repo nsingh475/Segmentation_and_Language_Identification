{
 "cells": [
  {
   "cell_type": "code",
   "execution_count": 50,
   "id": "8e76eb58",
   "metadata": {},
   "outputs": [],
   "source": [
    "pred_file_path = 'Predictions/'"
   ]
  },
  {
   "cell_type": "code",
   "execution_count": 67,
   "id": "584facfb",
   "metadata": {},
   "outputs": [
    {
     "name": "stdout",
     "output_type": "stream",
     "text": [
      "na_lang_labels_2s_4x_e10.csv\n"
     ]
    }
   ],
   "source": [
    "pred_language = 'na'\n",
    "audio_duration = '2'\n",
    "repeat = '4'\n",
    "\n",
    "if repeat != '':\n",
    "    pred_file_name = f'{pred_language}_lang_labels_{audio_duration}s_{repeat}x_e10.csv'\n",
    "else:\n",
    "    pred_file_name = f'{pred_language}_lang_labels_{audio_duration}s_e10.csv'\n",
    "    \n",
    "print(pred_file_name)"
   ]
  },
  {
   "cell_type": "code",
   "execution_count": 68,
   "id": "1e1e2fca",
   "metadata": {},
   "outputs": [
    {
     "name": "stdout",
     "output_type": "stream",
     "text": [
      "3\n"
     ]
    }
   ],
   "source": [
    "lang_mapping = {'ambos': 0, 'azz': 1, 'esp': 2, 'na': 3}\n",
    "true_label = lang_mapping[pred_language]\n",
    "print(true_label)"
   ]
  },
  {
   "cell_type": "code",
   "execution_count": 69,
   "id": "93adf277",
   "metadata": {},
   "outputs": [
    {
     "name": "stdout",
     "output_type": "stream",
     "text": [
      "362\n"
     ]
    }
   ],
   "source": [
    "import pandas as pd\n",
    "\n",
    "def read_csv(path, name):\n",
    "    df = pd.read_csv(path+name)\n",
    "    return df\n",
    "    \n",
    "    \n",
    "df = read_csv(pred_file_path, pred_file_name)\n",
    "df.head(2)\n",
    "print(df.shape[0])"
   ]
  },
  {
   "cell_type": "code",
   "execution_count": 70,
   "id": "cc381bdb",
   "metadata": {},
   "outputs": [
    {
     "name": "stdout",
     "output_type": "stream",
     "text": [
      "362\n"
     ]
    }
   ],
   "source": [
    "pred_list = df['Language Labels'].tolist()\n",
    "print(len(pred_list))"
   ]
  },
  {
   "cell_type": "code",
   "execution_count": 71,
   "id": "d384148d",
   "metadata": {},
   "outputs": [
    {
     "name": "stdout",
     "output_type": "stream",
     "text": [
      "309 53 362\n"
     ]
    }
   ],
   "source": [
    "single_frame = []\n",
    "multiple_frame = []\n",
    "\n",
    "for pred in pred_list:\n",
    "    pred = pred.strip('][').split(', ')\n",
    "    if len(pred) == 1: single_frame.append(pred)\n",
    "    else: multiple_frame.append(pred)\n",
    "        \n",
    "print(len(single_frame), len(multiple_frame), len(single_frame) + len(multiple_frame))"
   ]
  },
  {
   "cell_type": "code",
   "execution_count": 72,
   "id": "87809acf",
   "metadata": {},
   "outputs": [
    {
     "name": "stdout",
     "output_type": "stream",
     "text": [
      "133 309\n",
      "Accuracy:  43.04\n"
     ]
    }
   ],
   "source": [
    "correct_count = 0\n",
    "total_count = 0\n",
    "for pred in single_frame:\n",
    "    if pred[0] == str(true_label): correct_count += 1\n",
    "    total_count += 1\n",
    "    \n",
    "print(correct_count, total_count)\n",
    "print('Accuracy: ', round(correct_count*100/total_count, 2))"
   ]
  },
  {
   "cell_type": "code",
   "execution_count": 73,
   "id": "653f6d44",
   "metadata": {},
   "outputs": [
    {
     "name": "stdout",
     "output_type": "stream",
     "text": [
      "47 53\n",
      "Accuracy:  88.68\n",
      "6\n"
     ]
    }
   ],
   "source": [
    "correct_count = 0\n",
    "total_count = 0\n",
    "incorrect_pred = []\n",
    "\n",
    "for pred in multiple_frame:\n",
    "    if list(set(pred))[0] == str(true_label): correct_count += 1\n",
    "    else: incorrect_pred.append(pred)\n",
    "    total_count += 1\n",
    "    \n",
    "print(correct_count, total_count)\n",
    "print('Accuracy: ', round(correct_count*100/total_count, 2))\n",
    "\n",
    "print(len(incorrect_pred))"
   ]
  },
  {
   "cell_type": "code",
   "execution_count": 74,
   "id": "606aa8c4",
   "metadata": {},
   "outputs": [
    {
     "name": "stdout",
     "output_type": "stream",
     "text": [
      "['2', '2']\n",
      "['1', '1', '1', '2', '1']\n",
      "['1', '1']\n",
      "['3', '2']\n",
      "['3', '3', '1']\n",
      "['3', '3', '3', '3', '3', '3', '1']\n",
      "['3', '2', '3', '2', '2', '1']\n",
      "['3', '3', '3', '3']\n",
      "['3', '3', '3']\n",
      "['3', '3']\n",
      "['2', '1']\n",
      "['3', '1']\n",
      "['2', '3']\n",
      "['3', '3', '3', '3', '3', '3', '3']\n",
      "['3', '2', '2', '3', '3', '3']\n",
      "['3', '3', '3', '3', '3', '3', '3']\n",
      "['3', '3']\n",
      "['3', '3', '3']\n",
      "['3', '1', '3']\n",
      "['3', '3', '2', '2', '2', '3', '3']\n",
      "['3', '2']\n",
      "['3', '2']\n",
      "['3', '2', '1']\n",
      "['3', '3', '3', '3', '3']\n",
      "['3', '2', '1']\n",
      "['3', '3', '3', '3']\n",
      "['1', '1']\n",
      "['3', '3', '2', '2', '2', '2', '2']\n",
      "['2', '3', '2']\n",
      "['3', '3']\n",
      "['3', '3', '3', '3']\n",
      "['3', '3']\n",
      "['3', '3']\n",
      "['3', '2', '2', '2', '2']\n",
      "['2', '2', '2', '3', '3', '1']\n",
      "['2', '1', '2']\n",
      "['2', '3']\n",
      "['2', '3']\n",
      "['3', '3', '3']\n",
      "['3', '1']\n",
      "['2', '3']\n",
      "['3', '1', '2', '1']\n",
      "['3', '2']\n",
      "['3', '3', '1', '2']\n",
      "['3', '3', '3']\n",
      "['3', '3']\n",
      "['3', '3', '3', '3']\n",
      "['3', '3', '1']\n",
      "['3', '3', '3', '3']\n",
      "['3', '3']\n",
      "['3', '1', '1', '2']\n",
      "['3', '3']\n",
      "['3', '1']\n"
     ]
    }
   ],
   "source": [
    "for pred in multiple_frame:\n",
    "    print(pred)"
   ]
  },
  {
   "cell_type": "code",
   "execution_count": null,
   "id": "b7001f4b",
   "metadata": {},
   "outputs": [],
   "source": []
  },
  {
   "cell_type": "code",
   "execution_count": null,
   "id": "113684f4",
   "metadata": {},
   "outputs": [],
   "source": []
  }
 ],
 "metadata": {
  "kernelspec": {
   "display_name": "Python 3 (ipykernel)",
   "language": "python",
   "name": "python3"
  },
  "language_info": {
   "codemirror_mode": {
    "name": "ipython",
    "version": 3
   },
   "file_extension": ".py",
   "mimetype": "text/x-python",
   "name": "python",
   "nbconvert_exporter": "python",
   "pygments_lexer": "ipython3",
   "version": "3.9.12"
  }
 },
 "nbformat": 4,
 "nbformat_minor": 5
}
