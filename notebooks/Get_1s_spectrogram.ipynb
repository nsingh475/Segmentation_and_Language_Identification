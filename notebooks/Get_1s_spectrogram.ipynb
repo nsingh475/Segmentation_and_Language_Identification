{
 "cells": [
  {
   "cell_type": "code",
   "execution_count": 12,
   "id": "1614dca7",
   "metadata": {},
   "outputs": [
    {
     "name": "stdout",
     "output_type": "stream",
     "text": [
      "Requirement already satisfied: numba in c:\\users\\natas\\anaconda3\\lib\\site-packages (0.55.1)\n",
      "Collecting numba\n",
      "  Using cached numba-0.59.1-cp39-cp39-win_amd64.whl (2.6 MB)\n",
      "Collecting llvmlite<0.43,>=0.42.0dev0\n",
      "  Using cached llvmlite-0.42.0-cp39-cp39-win_amd64.whl (28.1 MB)\n",
      "Requirement already satisfied: numpy<1.27,>=1.22 in c:\\users\\natas\\anaconda3\\lib\\site-packages (from numba) (1.26.4)\n",
      "Installing collected packages: llvmlite, numba\n",
      "Successfully installed llvmlite-0.42.0 numba-0.59.1\n"
     ]
    }
   ],
   "source": [
    "# !pip install --user --upgrade numba"
   ]
  },
  {
   "cell_type": "code",
   "execution_count": 17,
   "id": "c45b2796",
   "metadata": {},
   "outputs": [
    {
     "name": "stdout",
     "output_type": "stream",
     "text": [
      "Requirement already satisfied: numpy in c:\\users\\natas\\anaconda3\\lib\\site-packages (1.26.4)\n"
     ]
    }
   ],
   "source": [
    "# !pip install --user --upgrade numpy"
   ]
  },
  {
   "cell_type": "code",
   "execution_count": 20,
   "id": "5e245847",
   "metadata": {},
   "outputs": [
    {
     "name": "stdout",
     "output_type": "stream",
     "text": [
      "^C\n"
     ]
    }
   ],
   "source": [
    "# !pip uninstall numpy"
   ]
  },
  {
   "cell_type": "code",
   "execution_count": 2,
   "id": "fcf12723",
   "metadata": {},
   "outputs": [
    {
     "name": "stdout",
     "output_type": "stream",
     "text": [
      "Requirement already satisfied: numpy==1.26.4 in c:\\users\\natas\\anaconda3\\lib\\site-packages (1.26.4)\n"
     ]
    }
   ],
   "source": [
    "# !pip install numpy==1.26.4"
   ]
  },
  {
   "cell_type": "code",
   "execution_count": 3,
   "id": "367984fa",
   "metadata": {},
   "outputs": [
    {
     "name": "stdout",
     "output_type": "stream",
     "text": [
      "1.26.4\n"
     ]
    }
   ],
   "source": [
    "# import numpy\n",
    "# print(numpy.__version__)"
   ]
  },
  {
   "cell_type": "code",
   "execution_count": 1,
   "id": "fea91246",
   "metadata": {},
   "outputs": [],
   "source": [
    "import os\n",
    "import librosa\n",
    "import matplotlib.pyplot as plt"
   ]
  },
  {
   "cell_type": "code",
   "execution_count": 2,
   "id": "6d04b53c",
   "metadata": {},
   "outputs": [],
   "source": [
    "# Function to generate spectrogram and save image\n",
    "def generate_spectra(outpath, name, sample_rate, samples):\n",
    "    powerSpectrum, frequenciesFound, time, imageAxis = plt.specgram(samples, Fs=sample_rate)\n",
    "    plt.ylabel('Frequency [Hz]')\n",
    "    plt.xlabel('Time [sec]')\n",
    "    plt.savefig(outpath+name.replace('.wav', '.png'), bbox_inches=\"tight\")\n",
    "    plt.close()"
   ]
  },
  {
   "cell_type": "code",
   "execution_count": 3,
   "id": "c661f30c",
   "metadata": {},
   "outputs": [],
   "source": [
    "# # Function to process audio and generate spectrograms\n",
    "# def process_audio(audio_folder, spectrogram_folder):\n",
    "#     # Iterate over each audio file\n",
    "#     for filename in os.listdir(audio_folder):\n",
    "#         if filename.endswith('.wav'):  # Assuming audio files are in WAV format\n",
    "#             audio_path = os.path.join(audio_folder, filename)\n",
    "#             output_folder = os.path.join(spectrogram_folder, os.path.splitext(filename)[0])\n",
    "#             os.makedirs(output_folder, exist_ok=True)  # Create output folder if it doesn't exist\n",
    "            \n",
    "#             # Load the audio file\n",
    "#             y, sr = librosa.load(audio_path, sr=None)\n",
    "            \n",
    "#             # Calculate the number of chunks (1s each)\n",
    "#             chunk_size = sr\n",
    "#             num_chunks = len(y) // chunk_size\n",
    "            \n",
    "#             # Generate spectrogram for each chunk\n",
    "#             for i in range(num_chunks):\n",
    "#                 # Extract the chunk\n",
    "#                 chunk = y[i*chunk_size : (i+1)*chunk_size]\n",
    "                \n",
    "#                 # Generate spectrogram for the chunk\n",
    "#                 generate_spectra(output_folder + '/', f'chunk_{i}.wav', sr, chunk)"
   ]
  },
  {
   "cell_type": "code",
   "execution_count": 4,
   "id": "e0bf3844",
   "metadata": {},
   "outputs": [],
   "source": [
    "# audio_folder = 'Segmentation_and_Language_Identification/Chunked_Audios/'\n",
    "# spectrogram_folder = 'Segmentation_and_Language_Identification/Spectrograms/'\n",
    "# process_audio(audio_folder, spectrogram_folder)"
   ]
  },
  {
   "cell_type": "code",
   "execution_count": 3,
   "id": "f72774e6",
   "metadata": {},
   "outputs": [],
   "source": [
    "# Function to process audio and generate spectrograms\n",
    "def process_audio(img_folder, spectrogram_folder):\n",
    "    # Iterate over each audio file\n",
    "    for filename in os.listdir(img_folder):\n",
    "        if filename.endswith('.png'):\n",
    "#             audio_path = os.path.join(audio_folder, filename)\n",
    "            output_folder = os.path.join(spectrogram_folder, os.path.splitext(filename)[0])\n",
    "            os.makedirs(output_folder, exist_ok=True)  # Create output folder if it doesn't exist\n",
    "            \n",
    "            # Load the audio file\n",
    "            datapath = '//wsl.localhost/Ubuntu/home/natasha/SLID/split_lang_id_audio/'\n",
    "            audio_path = os.path.join(datapath, os.path.splitext(filename)[0]+'.wav')\n",
    "            y, sr = librosa.load(audio_path, sr=None)\n",
    "            \n",
    "            # Calculate the number of chunks (1s each)\n",
    "            duration = 2\n",
    "            chunk_size = duration*sr\n",
    "            num_chunks = len(y) // chunk_size\n",
    "            repeat = 4\n",
    "            \n",
    "            if num_chunks == 0:\n",
    "                generate_spectra(output_folder + '/', f'chunk_0.wav', sr, y*repeat)\n",
    "            else:\n",
    "                # Generate spectrogram for each chunk\n",
    "                for i in range(num_chunks):\n",
    "                    # Extract the chunk\n",
    "                    chunk = y[i*chunk_size : (i+1)*chunk_size]\n",
    "\n",
    "                    # Generate spectrogram for the chunk\n",
    "                    generate_spectra(output_folder + '/', f'chunk_{i}.wav', sr, chunk*repeat)\n",
    "                \n",
    "                if len(y[i*chunk_size:])>0:\n",
    "                    generate_spectra(output_folder + '/', f'chunk_{i}.wav', sr, y[(i)*chunk_size:]*repeat)"
   ]
  },
  {
   "cell_type": "code",
   "execution_count": 6,
   "id": "8fade9df",
   "metadata": {},
   "outputs": [],
   "source": [
    "language = 'esp'\n",
    "datapath = '//wsl.localhost/Ubuntu/home/natasha/SLID/split_lang_id_audio/'\n",
    "audio_folder = f'Segmentation_and_Language_Identification/RawData_img/test/{language}/'\n",
    "spectrogram_folder = f'Segmentation_and_Language_Identification/RawData_img/test_2s_spectrogram_4x/{language}/'\n",
    "process_audio(audio_folder, spectrogram_folder)"
   ]
  },
  {
   "cell_type": "code",
   "execution_count": null,
   "id": "4ce8b48b",
   "metadata": {},
   "outputs": [],
   "source": []
  }
 ],
 "metadata": {
  "kernelspec": {
   "display_name": "Python 3 (ipykernel)",
   "language": "python",
   "name": "python3"
  },
  "language_info": {
   "codemirror_mode": {
    "name": "ipython",
    "version": 3
   },
   "file_extension": ".py",
   "mimetype": "text/x-python",
   "name": "python",
   "nbconvert_exporter": "python",
   "pygments_lexer": "ipython3",
   "version": "3.9.12"
  }
 },
 "nbformat": 4,
 "nbformat_minor": 5
}
