{
 "cells": [
  {
   "cell_type": "markdown",
   "id": "52d820a1",
   "metadata": {},
   "source": [
    "## Arranging audios in folders based on catedories"
   ]
  },
  {
   "cell_type": "code",
   "execution_count": 1,
   "id": "3231b31e",
   "metadata": {},
   "outputs": [],
   "source": [
    "import os\n",
    "import shutil"
   ]
  },
  {
   "cell_type": "code",
   "execution_count": 7,
   "id": "35b63006",
   "metadata": {},
   "outputs": [],
   "source": [
    "main_data_folder = 'Segmentation_and_Language_Identification/Spectrogram'\n",
    "output_folder = 'Segmentation_and_Language_Identification/RawData'"
   ]
  },
  {
   "cell_type": "code",
   "execution_count": 19,
   "id": "f00216e1",
   "metadata": {},
   "outputs": [],
   "source": [
    "# Get a list of all image files in the main data folder\n",
    "all_images = [f for f in os.listdir(main_data_folder) if f.endswith('.png')]"
   ]
  },
  {
   "cell_type": "code",
   "execution_count": 15,
   "id": "8e55d91c",
   "metadata": {},
   "outputs": [],
   "source": [
    "# Create category folders in the output folder\n",
    "categories = ['esp', 'azz', 'ambos', 'na']  \n",
    "for category in categories:\n",
    "    category_folder = os.path.join(output_folder, category)\n",
    "    os.makedirs(category_folder, exist_ok=True)"
   ]
  },
  {
   "cell_type": "code",
   "execution_count": 20,
   "id": "5eb82b4b",
   "metadata": {},
   "outputs": [
    {
     "name": "stdout",
     "output_type": "stream",
     "text": [
      "Images have been moved to category folders.\n"
     ]
    }
   ],
   "source": [
    "# Move images to their respective category folders\n",
    "for image in all_images:\n",
    "    category = image.split('_')[0]\n",
    "    source_path = main_data_folder +'/'+ image\n",
    "    destination_path = output_folder + '/' + category + '/' + image\n",
    "    try:\n",
    "        shutil.move(source_path, destination_path)\n",
    "    except:\n",
    "        pass\n",
    "\n",
    "print(\"Images have been moved to category folders.\")"
   ]
  },
  {
   "cell_type": "markdown",
   "id": "8625a66e",
   "metadata": {},
   "source": [
    "## Split data into Train and test folder"
   ]
  },
  {
   "cell_type": "code",
   "execution_count": 1,
   "id": "07a92b2d",
   "metadata": {},
   "outputs": [],
   "source": [
    "import os\n",
    "import shutil\n",
    "from sklearn.model_selection import train_test_split"
   ]
  },
  {
   "cell_type": "code",
   "execution_count": 19,
   "id": "63dd7bd9",
   "metadata": {},
   "outputs": [],
   "source": [
    "raw_data_folder = 'Segmentation_and_Language_Identification/RawData/'\n",
    "\n",
    "output_folder = 'Segmentation_and_Language_Identification/RawData/'\n",
    "train_folder = output_folder + 'train/'\n",
    "val_folder = output_folder + 'val/'\n",
    "test_folder = output_folder + 'test/'"
   ]
  },
  {
   "cell_type": "code",
   "execution_count": 4,
   "id": "27af386f",
   "metadata": {},
   "outputs": [],
   "source": [
    "categories = ['azz', 'esp', 'ambos', 'na']"
   ]
  },
  {
   "cell_type": "code",
   "execution_count": 5,
   "id": "ea589376",
   "metadata": {},
   "outputs": [],
   "source": [
    "# Create output folders if they don't exist\n",
    "for folder in [train_folder, val_folder, test_folder]:\n",
    "    os.makedirs(folder, exist_ok=True)\n",
    "    for category in categories:\n",
    "        os.makedirs(folder + category, exist_ok=True)"
   ]
  },
  {
   "cell_type": "code",
   "execution_count": 21,
   "id": "89ec03d0",
   "metadata": {},
   "outputs": [
    {
     "name": "stdout",
     "output_type": "stream",
     "text": [
      "Data split successfully.\n"
     ]
    }
   ],
   "source": [
    "# Iterate through each category and perform the data split\n",
    "for category in categories:\n",
    "    category_folder = raw_data_folder + category  + '/'\n",
    "\n",
    "    files = os.listdir(category_folder) # List all files in the category folder\n",
    "    \n",
    "    # Perform the train, val, test split for each category\n",
    "    train_files, temp_files = train_test_split(files, test_size=0.2, random_state=42)\n",
    "    val_files, test_files = train_test_split(temp_files, test_size=0.5, random_state=42)\n",
    "    \n",
    "    \n",
    "    # Move files to respective folders in train, val, test\n",
    "    for file in train_files:\n",
    "        src = category_folder + file\n",
    "        dest = train_folder +  category + '/'  +file\n",
    "        shutil.copy(src, dest)\n",
    "\n",
    "    for file in val_files:\n",
    "        src = category_folder + file\n",
    "        dest = val_folder +  category + '/'  +file\n",
    "        shutil.copy(src, dest)\n",
    "\n",
    "    for file in test_files:\n",
    "        src = category_folder + file\n",
    "        dest = test_folder +  category + '/'  +file\n",
    "        shutil.copy(src, dest)\n",
    "\n",
    "print(\"Data split successfully.\")"
   ]
  },
  {
   "cell_type": "code",
   "execution_count": null,
   "id": "52f1d069",
   "metadata": {},
   "outputs": [],
   "source": []
  },
  {
   "cell_type": "code",
   "execution_count": null,
   "id": "e0663ddf",
   "metadata": {},
   "outputs": [],
   "source": []
  },
  {
   "cell_type": "code",
   "execution_count": null,
   "id": "716f8d77",
   "metadata": {},
   "outputs": [],
   "source": []
  },
  {
   "cell_type": "markdown",
   "id": "b94e04e7",
   "metadata": {},
   "source": [
    "## rename data and move"
   ]
  },
  {
   "cell_type": "code",
   "execution_count": 16,
   "id": "7b77bb42",
   "metadata": {},
   "outputs": [],
   "source": [
    "# main_data_folder = 'Segmentation_and_Language_Identification/RawData/train'\n",
    "# output_folder = 'Segmentation_and_Language_Identification/RawData/train/'\n",
    "# all_images = [f for f in os.listdir(main_data_folder) if f.endswith('.png')]"
   ]
  },
  {
   "cell_type": "code",
   "execution_count": 17,
   "id": "55ee5d96",
   "metadata": {},
   "outputs": [
    {
     "name": "stdout",
     "output_type": "stream",
     "text": [
      "azzazz_NAHUATL_noticiero-2022-06-03_100470.0-102940.0.png\n",
      "1228\n"
     ]
    }
   ],
   "source": [
    "# print(all_images[0])\n",
    "# print(len(all_images))"
   ]
  },
  {
   "cell_type": "code",
   "execution_count": 15,
   "id": "716ea30e",
   "metadata": {},
   "outputs": [
    {
     "name": "stdout",
     "output_type": "stream",
     "text": [
      "Segmentation_and_Language_Identification/RawData/train/azzazz_NAHUATL_noticiero-2022-06-03_100470.0-102940.0.png\n",
      "Segmentation_and_Language_Identification/RawData/train//azz/azz_NAHUATL_noticiero-2022-06-03_100470.0-102940.0.png\n"
     ]
    }
   ],
   "source": [
    "# image = 'azzazz_NAHUATL_noticiero-2022-06-03_100470.0-102940.0.png'\n",
    "\n",
    "# print(source_path)\n",
    "# print(destination_path)"
   ]
  },
  {
   "cell_type": "code",
   "execution_count": 18,
   "id": "f544294b",
   "metadata": {},
   "outputs": [],
   "source": [
    "# for image in all_images:\n",
    "#     category = image.split('_')[0]\n",
    "#     n = (len(category) // 2)\n",
    "#     source_path = main_data_folder +'/'+ image\n",
    "#     category = category[:n]\n",
    "#     image = image[n:]\n",
    "#     destination_path = output_folder + '/' + category + '/' + image\n",
    "#     try:\n",
    "#         shutil.move(source_path, destination_path)\n",
    "#     except:\n",
    "#         pass"
   ]
  },
  {
   "cell_type": "code",
   "execution_count": null,
   "id": "785b5e0e",
   "metadata": {},
   "outputs": [],
   "source": []
  },
  {
   "cell_type": "code",
   "execution_count": null,
   "id": "412bda3e",
   "metadata": {},
   "outputs": [],
   "source": []
  }
 ],
 "metadata": {
  "kernelspec": {
   "display_name": "Python 3 (ipykernel)",
   "language": "python",
   "name": "python3"
  },
  "language_info": {
   "codemirror_mode": {
    "name": "ipython",
    "version": 3
   },
   "file_extension": ".py",
   "mimetype": "text/x-python",
   "name": "python",
   "nbconvert_exporter": "python",
   "pygments_lexer": "ipython3",
   "version": "3.9.12"
  }
 },
 "nbformat": 4,
 "nbformat_minor": 5
}
