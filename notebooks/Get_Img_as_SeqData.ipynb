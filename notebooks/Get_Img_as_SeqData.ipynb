{
 "cells": [
  {
   "cell_type": "code",
   "execution_count": 2,
   "id": "ab32a758",
   "metadata": {},
   "outputs": [],
   "source": [
    "import os\n",
    "from PIL import Image\n",
    "import numpy as np"
   ]
  },
  {
   "cell_type": "code",
   "execution_count": 9,
   "id": "fb215c96",
   "metadata": {},
   "outputs": [],
   "source": [
    "def spectrogram_to_sequence(spectrogram_path, sequence_length):\n",
    "    spectrogram_image = Image.open(spectrogram_path) # Load spectrogram image\n",
    "    spectrogram_array = np.array(spectrogram_image) # Convert to NumPy array \n",
    "#     num_frames = len(spectrogram_array) // sequence_length # Determine the number of frames\n",
    "#     spectrogram_sequence = [spectrogram_array[i * sequence_length : (i + 1) * sequence_length] for i in range(num_frames)] # Create the sequence by splitting the spectrogram into frames\n",
    "    return spectrogram_array"
   ]
  },
  {
   "cell_type": "code",
   "execution_count": 16,
   "id": "5b0dc475",
   "metadata": {},
   "outputs": [],
   "source": [
    "def save_sequence_as_images(sequence, file_name):\n",
    "#     os.makedirs(output_folder, exist_ok=True)\n",
    "#     for i, frame in enumerate(sequence):\n",
    "#     frame_filename = filename[:-4] + '_seq.png'\n",
    "#     frame_path = os.path.join(output_folder, frame_filename)\n",
    "    frame_image = Image.fromarray(sequence)\n",
    "#     frame_image = Image.fromarray(frame)\n",
    "    frame_image.save(file_name)"
   ]
  },
  {
   "cell_type": "code",
   "execution_count": 17,
   "id": "87f4194a",
   "metadata": {},
   "outputs": [],
   "source": [
    "def convert_images_to_sequences(input_folder, output_folder, sequence_length):\n",
    "    for root, _, files in os.walk(input_folder):\n",
    "        for filename in files:\n",
    "            if filename.endswith(('.png', '.jpg')):\n",
    "                img_path = os.path.join(root, filename)\n",
    "                relative_path = os.path.relpath(img_path, input_folder)\n",
    "                seq_folder = output_folder + relative_path[:-4] + '_seq.png'\n",
    "                spectrogram_sequence = spectrogram_to_sequence(img_path, sequence_length)\n",
    "                save_sequence_as_images(spectrogram_sequence, seq_folder)"
   ]
  },
  {
   "cell_type": "code",
   "execution_count": 18,
   "id": "bb263988",
   "metadata": {},
   "outputs": [],
   "source": [
    "# Example usage:\n",
    "input_folder = 'Segmentation_and_Language_Identification/RawData_img/'\n",
    "output_folder = 'Segmentation_and_Language_Identification/RawData_seq/'\n",
    "sequence_length = 149"
   ]
  },
  {
   "cell_type": "code",
   "execution_count": 20,
   "id": "226bef6d",
   "metadata": {},
   "outputs": [],
   "source": [
    "convert_images_to_sequences(input_folder, output_folder, sequence_length)"
   ]
  },
  {
   "cell_type": "code",
   "execution_count": null,
   "id": "354ec398",
   "metadata": {},
   "outputs": [],
   "source": []
  },
  {
   "cell_type": "code",
   "execution_count": null,
   "id": "bc77efeb",
   "metadata": {},
   "outputs": [],
   "source": []
  },
  {
   "cell_type": "code",
   "execution_count": null,
   "id": "72331325",
   "metadata": {},
   "outputs": [],
   "source": []
  },
  {
   "cell_type": "code",
   "execution_count": null,
   "id": "ee116506",
   "metadata": {},
   "outputs": [],
   "source": []
  },
  {
   "cell_type": "code",
   "execution_count": null,
   "id": "84c9dd12",
   "metadata": {},
   "outputs": [],
   "source": []
  },
  {
   "cell_type": "code",
   "execution_count": null,
   "id": "273d42ab",
   "metadata": {},
   "outputs": [],
   "source": []
  },
  {
   "cell_type": "code",
   "execution_count": null,
   "id": "908a9d8d",
   "metadata": {},
   "outputs": [],
   "source": []
  },
  {
   "cell_type": "code",
   "execution_count": null,
   "id": "769ac607",
   "metadata": {},
   "outputs": [],
   "source": []
  },
  {
   "cell_type": "code",
   "execution_count": null,
   "id": "3299abc6",
   "metadata": {},
   "outputs": [],
   "source": [
    "### Generate MFCC data\n",
    "# def sequence_data_generator(audio_files, sequence_length, feature_dim):\n",
    "#     while True:\n",
    "#         for audio_file in audio_files:\n",
    "#             audio_signal, _ = librosa.load(audio_file, sr=None)  # Load audio file\n",
    "#             mfccs = librosa.feature.mfcc(audio_signal, sr=None, n_mfcc=feature_dim) # Extract MFCCs\n",
    "\n",
    "#             # Pad or truncate sequences to match the desired length\n",
    "#             if mfccs.shape[1] < sequence_length:\n",
    "#                 mfccs = np.pad(mfccs, ((0, 0), (0, sequence_length - mfccs.shape[1])))\n",
    "#             else:\n",
    "#                 mfccs = mfccs[:, :sequence_length]\n",
    "\n",
    "#             yield np.expand_dims(mfccs, axis=-1)"
   ]
  },
  {
   "cell_type": "code",
   "execution_count": null,
   "id": "fbdd2059",
   "metadata": {},
   "outputs": [],
   "source": []
  },
  {
   "cell_type": "code",
   "execution_count": null,
   "id": "672bcf13",
   "metadata": {},
   "outputs": [],
   "source": []
  }
 ],
 "metadata": {
  "kernelspec": {
   "display_name": "Python 3 (ipykernel)",
   "language": "python",
   "name": "python3"
  },
  "language_info": {
   "codemirror_mode": {
    "name": "ipython",
    "version": 3
   },
   "file_extension": ".py",
   "mimetype": "text/x-python",
   "name": "python",
   "nbconvert_exporter": "python",
   "pygments_lexer": "ipython3",
   "version": "3.9.12"
  }
 },
 "nbformat": 4,
 "nbformat_minor": 5
}
